{
 "cells": [
  {
   "cell_type": "markdown",
   "metadata": {},
   "source": [
    "# Pytorch Tutorial"
   ]
  },
  {
   "cell_type": "markdown",
   "metadata": {},
   "source": [
    "Pytorch is a popular deep learning framework and it's easy to get started."
   ]
  },
  {
   "cell_type": "code",
   "execution_count": 1,
   "metadata": {
    "collapsed": true
   },
   "outputs": [],
   "source": [
    "import torch\n",
    "import torch.nn as nn\n",
    "import torch.utils.data as data\n",
    "import torchvision\n",
    "import torchvision.transforms as transforms\n",
    "from tqdm import tqdm\n",
    "import time\n",
    "\n",
    "BATCH_SIZE = 128\n",
    "NUM_EPOCHS = 10"
   ]
  },
  {
   "cell_type": "markdown",
   "metadata": {},
   "source": [
    "First, we read the mnist data, preprocess them and encapsulate them into dataloader form."
   ]
  },
  {
   "cell_type": "code",
   "execution_count": 2,
   "metadata": {
    "collapsed": true
   },
   "outputs": [],
   "source": [
    "# preprocessing\n",
    "normalize = transforms.Normalize(mean=[.5], std=[.5])\n",
    "transform = transforms.Compose([transforms.ToTensor(), normalize])\n",
    "\n",
    "# download and load the data\n",
    "train_dataset = torchvision.datasets.MNIST(root='./mnist/', train=True, transform=transform, download=True)\n",
    "test_dataset = torchvision.datasets.MNIST(root='./mnist/', train=False, transform=transform, download=True)\n",
    "\n",
    "# encapsulate them into dataloader form\n",
    "train_loader = data.DataLoader(train_dataset, batch_size=BATCH_SIZE, shuffle=True, drop_last=True)\n",
    "test_loader = data.DataLoader(test_dataset, batch_size=BATCH_SIZE, shuffle=False, drop_last=True)"
   ]
  },
  {
   "cell_type": "markdown",
   "metadata": {},
   "source": [
    "Then, we define the model, object function and optimizer that we use to classify."
   ]
  },
  {
   "cell_type": "code",
   "execution_count": 3,
   "metadata": {
    "collapsed": true
   },
   "outputs": [],
   "source": [
    "import torch\n",
    "import torch.nn as nn\n",
    "import torch.nn.functional as F\n",
    "from torch.optim import Adam\n",
    "from torch.autograd import Variable\n",
    "\n",
    "\n",
    "class SimpleNet(nn.Module):\n",
    "# TODO:define model\n",
    "    def __init__(self):\n",
    "        super(SimpleNet, self).__init__()\n",
    "        self.conv = nn.Sequential(\n",
    "            nn.Conv2d(1, 6, 5, stride=1, padding=2),\n",
    "            nn.ReLU(True),\n",
    "            nn.MaxPool2d(2, 2),\n",
    "            nn.Conv2d(6, 16, 5, stride=1, padding=0),\n",
    "            nn.ReLU(True), \n",
    "            nn.MaxPool2d(2, 2))\n",
    "\n",
    "        self.fc = nn.Sequential(\n",
    "            nn.Linear(400, 120), \n",
    "            nn.Linear(120, 84), \n",
    "            nn.Linear(84, 10))\n",
    "\n",
    "    def forward(self, x):\n",
    "        out = self.conv(x)\n",
    "        out = out.view(out.size(0), -1)\n",
    "        out = self.fc(out)\n",
    "        return out\n",
    "\n",
    "    \n",
    "model = SimpleNet()\n",
    "\n",
    "if torch.cuda.is_available():\n",
    "    model = model.cuda()\n",
    "# TODO:define loss function and optimiter\n",
    "criterion = nn.CrossEntropyLoss()\n",
    "optimizer = Adam(model.parameters(), lr=0.001,weight_decay=0.0001)"
   ]
  },
  {
   "cell_type": "markdown",
   "metadata": {},
   "source": [
    "Next, we can start to train and evaluate!"
   ]
  },
  {
   "cell_type": "code",
   "execution_count": 6,
   "metadata": {
    "collapsed": true,
    "scrolled": true
   },
   "outputs": [
    {
     "output_type": "stream",
     "name": "stderr",
     "text": [
      "100%|██████████| 468/468 [00:09<00:00, 50.40it/s]\n",
      "  1%|          | 5/468 [00:00<00:10, 42.85it/s]\n",
      "epoch 1\n",
      "Train Loss\t 0.014398\n",
      "Train Acc\t 0.993683\n",
      "Test Acc\t 0.987700\n",
      "\n",
      "100%|██████████| 468/468 [00:09<00:00, 50.92it/s]\n",
      "  1%|          | 5/468 [00:00<00:09, 46.42it/s]\n",
      "epoch 2\n",
      "Train Loss\t 0.013580\n",
      "Train Acc\t 0.993917\n",
      "Test Acc\t 0.985100\n",
      "\n",
      "100%|██████████| 468/468 [00:09<00:00, 51.37it/s]\n",
      "  1%|          | 5/468 [00:00<00:09, 46.42it/s]\n",
      "epoch 3\n",
      "Train Loss\t 0.014992\n",
      "Train Acc\t 0.993567\n",
      "Test Acc\t 0.985300\n",
      "\n",
      "100%|██████████| 468/468 [00:09<00:00, 50.99it/s]\n",
      "  1%|          | 5/468 [00:00<00:10, 43.98it/s]\n",
      "epoch 4\n",
      "Train Loss\t 0.012582\n",
      "Train Acc\t 0.994267\n",
      "Test Acc\t 0.988400\n",
      "\n",
      "100%|██████████| 468/468 [00:09<00:00, 51.13it/s]\n",
      "  1%|          | 5/468 [00:00<00:10, 44.36it/s]\n",
      "epoch 5\n",
      "Train Loss\t 0.012103\n",
      "Train Acc\t 0.994017\n",
      "Test Acc\t 0.986500\n",
      "\n",
      "100%|██████████| 468/468 [00:09<00:00, 50.75it/s]\n",
      "  1%|          | 5/468 [00:00<00:11, 41.78it/s]\n",
      "epoch 6\n",
      "Train Loss\t 0.012450\n",
      "Train Acc\t 0.994350\n",
      "Test Acc\t 0.987200\n",
      "\n",
      "100%|██████████| 468/468 [00:09<00:00, 51.08it/s]\n",
      "  1%|          | 5/468 [00:00<00:10, 45.17it/s]\n",
      "epoch 7\n",
      "Train Loss\t 0.011974\n",
      "Train Acc\t 0.994283\n",
      "Test Acc\t 0.986000\n",
      "\n",
      "100%|██████████| 468/468 [00:09<00:00, 51.42it/s]\n",
      "  1%|          | 5/468 [00:00<00:09, 46.42it/s]\n",
      "epoch 8\n",
      "Train Loss\t 0.011858\n",
      "Train Acc\t 0.994367\n",
      "Test Acc\t 0.985300\n",
      "\n",
      "100%|██████████| 468/468 [00:09<00:00, 51.34it/s]\n",
      "  1%|          | 5/468 [00:00<00:09, 47.30it/s]\n",
      "epoch 9\n",
      "Train Loss\t 0.013869\n",
      "Train Acc\t 0.993800\n",
      "Test Acc\t 0.987800\n",
      "\n",
      "100%|██████████| 468/468 [00:09<00:00, 50.50it/s]\n",
      "\n",
      "epoch 10\n",
      "Train Loss\t 0.009824\n",
      "Train Acc\t 0.995017\n",
      "Test Acc\t 0.986800\n",
      "\n"
     ]
    }
   ],
   "source": [
    "# train and evaluate\n",
    "\n",
    "for epoch in range(NUM_EPOCHS):\n",
    "    model.train()\n",
    "    train_acc = 0.0\n",
    "    train_loss = 0.0\n",
    "    cnt = 0\n",
    "    for images, labels in tqdm(train_loader):\n",
    "        # TODO:forward + backward + optimize\n",
    "        if torch.cuda.is_available():\n",
    "                images = Variable(images.cuda())\n",
    "                labels = Variable(labels.cuda())\n",
    "\n",
    "        optimizer.zero_grad()\n",
    "        outputs = model(images)\n",
    "        loss = criterion(outputs,labels)\n",
    "        loss.backward()\n",
    "        optimizer.step()\n",
    "        train_loss += loss\n",
    "        _, prediction = torch.max(outputs.data, 1)\n",
    "        train_acc += (prediction == labels.data).sum().item()\n",
    "        cnt+=1\n",
    "    # evaluate\n",
    "    # TODO:calculate the accuracy using traning and testing dataset\n",
    "    train_acc = train_acc / len(train_dataset)\n",
    "    train_loss = train_loss / cnt\n",
    "\n",
    "    model.eval()\n",
    "    test_acc = 0.0\n",
    "    for i, (images, labels) in enumerate(test_loader):\n",
    "      \n",
    "        if torch.cuda.is_available():\n",
    "                images = Variable(images.cuda())\n",
    "                labels = Variable(labels.cuda())\n",
    "\n",
    "        outputs = model(images)\n",
    "        _, prediction = torch.max(outputs.data, 1)\n",
    "        test_acc += (prediction == labels.data).sum().item()\n",
    "    test_acc = test_acc / len(test_dataset)\n",
    "    print('\\nepoch {}\\nTrain Loss\\t {:.6f}\\nTrain Acc\\t {:.6f}\\nTest Acc\\t {:.6f}\\n'.format(epoch+1,train_loss,train_acc,test_acc))\n",
    "        \n",
    "\n",
    "    \n",
    "    \n",
    "    \n",
    "    \n"
   ]
  },
  {
   "cell_type": "markdown",
   "metadata": {},
   "source": [
    "#### Q5:\n",
    "Please print the training and testing accuracy."
   ]
  },
  {
   "source": [
    "Already done in the above cell"
   ],
   "cell_type": "markdown",
   "metadata": {}
  }
 ],
 "metadata": {
  "kernelspec": {
   "name": "python3612jvsc74a57bd0dd8ce5024b3674b11ea91e83f212ad057afe5f20beb3fdf5582663b4921c0ac1",
   "display_name": "Python 3.6.12 64-bit ('AI': conda)"
  },
  "language_info": {
   "codemirror_mode": {
    "name": "ipython",
    "version": 3
   },
   "file_extension": ".py",
   "mimetype": "text/x-python",
   "name": "python",
   "nbconvert_exporter": "python",
   "pygments_lexer": "ipython3",
   "version": "3.6.12"
  }
 },
 "nbformat": 4,
 "nbformat_minor": 2
}